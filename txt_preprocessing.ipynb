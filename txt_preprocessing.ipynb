{
 "cells": [
  {
   "cell_type": "markdown",
   "id": "6e9379eb",
   "metadata": {},
   "source": [
    "# Text preprocessings in NLP"
   ]
  },
  {
   "cell_type": "code",
   "execution_count": 9,
   "id": "02c9e90b-6428-400f-8a89-800f97548596",
   "metadata": {
    "scrolled": true
   },
   "outputs": [
    {
     "name": "stdout",
     "output_type": "stream",
     "text": [
      "Requirement already satisfied: nltk in c:\\users\\debap\\onedrive\\desktop\\nlp codes\\nlp\\lib\\site-packages (3.8.1)\n",
      "Requirement already satisfied: click in c:\\users\\debap\\onedrive\\desktop\\nlp codes\\nlp\\lib\\site-packages (from nltk) (8.1.7)\n",
      "Requirement already satisfied: joblib in c:\\users\\debap\\onedrive\\desktop\\nlp codes\\nlp\\lib\\site-packages (from nltk) (1.4.2)\n",
      "Requirement already satisfied: regex>=2021.8.3 in c:\\users\\debap\\onedrive\\desktop\\nlp codes\\nlp\\lib\\site-packages (from nltk) (2024.5.15)\n",
      "Requirement already satisfied: tqdm in c:\\users\\debap\\onedrive\\desktop\\nlp codes\\nlp\\lib\\site-packages (from nltk) (4.66.4)\n",
      "Requirement already satisfied: colorama in c:\\users\\debap\\onedrive\\desktop\\nlp codes\\nlp\\lib\\site-packages (from click->nltk) (0.4.6)\n",
      "Note: you may need to restart the kernel to use updated packages.\n",
      "Collecting numpy\n",
      "  Downloading numpy-2.0.0-cp39-cp39-win_amd64.whl.metadata (60 kB)\n",
      "     ---------------------------------------- 0.0/60.9 kB ? eta -:--:--\n",
      "     ------------------------- ------------ 41.0/60.9 kB 991.0 kB/s eta 0:00:01\n",
      "     -------------------------------------- 60.9/60.9 kB 649.5 kB/s eta 0:00:00\n",
      "Downloading numpy-2.0.0-cp39-cp39-win_amd64.whl (16.5 MB)\n",
      "   ---------------------------------------- 0.0/16.5 MB ? eta -:--:--\n",
      "   ---------------------------------------- 0.1/16.5 MB 3.0 MB/s eta 0:00:06\n",
      "    --------------------------------------- 0.3/16.5 MB 3.5 MB/s eta 0:00:05\n",
      "   - -------------------------------------- 0.6/16.5 MB 4.4 MB/s eta 0:00:04\n",
      "   -- ------------------------------------- 1.0/16.5 MB 5.6 MB/s eta 0:00:03\n",
      "   --- ------------------------------------ 1.4/16.5 MB 6.3 MB/s eta 0:00:03\n",
      "   --- ------------------------------------ 1.5/16.5 MB 5.8 MB/s eta 0:00:03\n",
      "   --- ------------------------------------ 1.5/16.5 MB 5.8 MB/s eta 0:00:03\n",
      "   ----- ---------------------------------- 2.1/16.5 MB 5.8 MB/s eta 0:00:03\n",
      "   ------ --------------------------------- 2.7/16.5 MB 6.5 MB/s eta 0:00:03\n",
      "   ------- -------------------------------- 3.0/16.5 MB 6.6 MB/s eta 0:00:03\n",
      "   -------- ------------------------------- 3.4/16.5 MB 6.8 MB/s eta 0:00:02\n",
      "   -------- ------------------------------- 3.6/16.5 MB 6.6 MB/s eta 0:00:02\n",
      "   --------- ------------------------------ 3.8/16.5 MB 6.7 MB/s eta 0:00:02\n",
      "   --------- ------------------------------ 3.8/16.5 MB 6.7 MB/s eta 0:00:02\n",
      "   ----------- ---------------------------- 4.8/16.5 MB 6.9 MB/s eta 0:00:02\n",
      "   ------------ --------------------------- 5.1/16.5 MB 7.1 MB/s eta 0:00:02\n",
      "   ------------- -------------------------- 5.5/16.5 MB 7.2 MB/s eta 0:00:02\n",
      "   -------------- ------------------------- 5.9/16.5 MB 7.3 MB/s eta 0:00:02\n",
      "   --------------- ------------------------ 6.3/16.5 MB 7.3 MB/s eta 0:00:02\n",
      "   ---------------- ----------------------- 6.7/16.5 MB 7.5 MB/s eta 0:00:02\n",
      "   ---------------- ----------------------- 7.0/16.5 MB 7.5 MB/s eta 0:00:02\n",
      "   ------------------ --------------------- 7.5/16.5 MB 7.7 MB/s eta 0:00:02\n",
      "   ------------------- -------------------- 7.9/16.5 MB 7.7 MB/s eta 0:00:02\n",
      "   ------------------- -------------------- 8.2/16.5 MB 7.6 MB/s eta 0:00:02\n",
      "   -------------------- ------------------- 8.4/16.5 MB 7.7 MB/s eta 0:00:02\n",
      "   -------------------- ------------------- 8.4/16.5 MB 7.7 MB/s eta 0:00:02\n",
      "   ---------------------- ----------------- 9.2/16.5 MB 7.7 MB/s eta 0:00:01\n",
      "   ----------------------- ---------------- 9.6/16.5 MB 7.7 MB/s eta 0:00:01\n",
      "   ------------------------ --------------- 10.0/16.5 MB 7.7 MB/s eta 0:00:01\n",
      "   ------------------------ --------------- 10.3/16.5 MB 7.6 MB/s eta 0:00:01\n",
      "   ------------------------- -------------- 10.4/16.5 MB 7.8 MB/s eta 0:00:01\n",
      "   -------------------------- ------------- 11.0/16.5 MB 8.0 MB/s eta 0:00:01\n",
      "   --------------------------- ------------ 11.3/16.5 MB 7.8 MB/s eta 0:00:01\n",
      "   --------------------------- ------------ 11.4/16.5 MB 7.8 MB/s eta 0:00:01\n",
      "   ---------------------------- ----------- 11.7/16.5 MB 8.3 MB/s eta 0:00:01\n",
      "   ---------------------------- ----------- 11.9/16.5 MB 8.1 MB/s eta 0:00:01\n",
      "   ----------------------------- ---------- 12.3/16.5 MB 7.9 MB/s eta 0:00:01\n",
      "   ------------------------------ --------- 12.6/16.5 MB 7.7 MB/s eta 0:00:01\n",
      "   ------------------------------- -------- 12.8/16.5 MB 7.4 MB/s eta 0:00:01\n",
      "   ------------------------------- -------- 13.2/16.5 MB 7.4 MB/s eta 0:00:01\n",
      "   -------------------------------- ------- 13.5/16.5 MB 7.4 MB/s eta 0:00:01\n",
      "   --------------------------------- ------ 13.9/16.5 MB 7.5 MB/s eta 0:00:01\n",
      "   ---------------------------------- ----- 14.2/16.5 MB 8.0 MB/s eta 0:00:01\n",
      "   ----------------------------------- ---- 14.5/16.5 MB 7.7 MB/s eta 0:00:01\n",
      "   ----------------------------------- ---- 14.7/16.5 MB 7.5 MB/s eta 0:00:01\n",
      "   ------------------------------------ --- 15.0/16.5 MB 7.4 MB/s eta 0:00:01\n",
      "   ------------------------------------ --- 15.2/16.5 MB 7.3 MB/s eta 0:00:01\n",
      "   ------------------------------------- -- 15.6/16.5 MB 7.2 MB/s eta 0:00:01\n",
      "   -------------------------------------- - 15.8/16.5 MB 7.1 MB/s eta 0:00:01\n",
      "   -------------------------------------- - 15.9/16.5 MB 6.9 MB/s eta 0:00:01\n",
      "   -------------------------------------- - 16.1/16.5 MB 6.7 MB/s eta 0:00:01\n",
      "   ---------------------------------------  16.3/16.5 MB 6.6 MB/s eta 0:00:01\n",
      "   ---------------------------------------  16.4/16.5 MB 6.5 MB/s eta 0:00:01\n",
      "   ---------------------------------------  16.5/16.5 MB 6.4 MB/s eta 0:00:01\n",
      "   ---------------------------------------- 16.5/16.5 MB 6.3 MB/s eta 0:00:00\n",
      "Installing collected packages: numpy\n",
      "Successfully installed numpy-2.0.0\n",
      "Note: you may need to restart the kernel to use updated packages.\n"
     ]
    }
   ],
   "source": [
    "%pip install nltk\n",
    "%pip install numpy"
   ]
  },
  {
   "cell_type": "markdown",
   "id": "714dbcd2",
   "metadata": {},
   "source": [
    "## Basics"
   ]
  },
  {
   "cell_type": "code",
   "execution_count": 2,
   "id": "f609e23c-b9ff-4d2d-9736-9d2526e2be28",
   "metadata": {},
   "outputs": [
    {
     "name": "stdout",
     "output_type": "stream",
     "text": [
      "['[', 'Emma', 'by', 'Jane', 'Austen', '1816', ']', 'VOLUME', 'I', 'CHAPTER']\n",
      "Vocabulary size: 7811\n",
      "['genuine', 'unexamined', 'entirely', 'long', '.', 'speedy', 'Astonished', 'prudence', 'hourly', 'stooping']\n"
     ]
    },
    {
     "name": "stderr",
     "output_type": "stream",
     "text": [
      "[nltk_data] Downloading package gutenberg to\n",
      "[nltk_data]     C:\\Users\\debap\\AppData\\Roaming\\nltk_data...\n",
      "[nltk_data]   Package gutenberg is already up-to-date!\n",
      "[nltk_data] Downloading package punkt to\n",
      "[nltk_data]     C:\\Users\\debap\\AppData\\Roaming\\nltk_data...\n",
      "[nltk_data]   Package punkt is already up-to-date!\n"
     ]
    }
   ],
   "source": [
    "import nltk\n",
    "from nltk.corpus import gutenberg\n",
    "\n",
    "# Load a corpus\n",
    "nltk.download('gutenberg')\n",
    "nltk.download('punkt')\n",
    "corpus = gutenberg.words('austen-emma.txt')\n",
    "\n",
    "# Display the first 10 words\n",
    "print(corpus[:10])\n",
    "\n",
    "# Create a vocabulary\n",
    "vocabulary = set(corpus)\n",
    "print(f\"Vocabulary size: {len(vocabulary)}\")\n",
    "print(list(vocabulary)[:10])\n"
   ]
  },
  {
   "cell_type": "markdown",
   "id": "f4c89d04",
   "metadata": {},
   "source": [
    "## Tokenization examples"
   ]
  },
  {
   "cell_type": "code",
   "execution_count": 3,
   "id": "6d9c2525",
   "metadata": {},
   "outputs": [
    {
     "name": "stdout",
     "output_type": "stream",
     "text": [
      "Word Tokens: ['NLP', 'is', 'fascinating', '.', 'It', 'has', 'many', 'applications', '.']\n",
      "Sentence Tokens: ['NLP is fascinating.', 'It has many applications.']\n"
     ]
    }
   ],
   "source": [
    "from nltk.tokenize import word_tokenize, sent_tokenize\n",
    "\n",
    "# Sample text\n",
    "text = \"NLP is fascinating. It has many applications.\"\n",
    "\n",
    "# Word Tokenization\n",
    "word_tokens = word_tokenize(text)\n",
    "print(f\"Word Tokens: {word_tokens}\")\n",
    "\n",
    "# Sentence Tokenization\n",
    "sent_tokens = sent_tokenize(text)\n",
    "print(f\"Sentence Tokens: {sent_tokens}\")\n"
   ]
  },
  {
   "cell_type": "markdown",
   "id": "f0e4c40b",
   "metadata": {},
   "source": [
    "## Stemming techniques"
   ]
  },
  {
   "cell_type": "code",
   "execution_count": 4,
   "id": "8104c1c4",
   "metadata": {},
   "outputs": [
    {
     "name": "stdout",
     "output_type": "stream",
     "text": [
      "Porter Stemmer Results: ['run', 'jump', 'easili', 'happi']\n",
      "Lancaster Stemmer Results: ['run', 'jump', 'easy', 'happy']\n",
      "Snowball Stemmer Results: ['run', 'jump', 'easili', 'happi']\n"
     ]
    }
   ],
   "source": [
    "from nltk.stem import PorterStemmer, LancasterStemmer, SnowballStemmer\n",
    "\n",
    "# Sample words\n",
    "words = [\"running\", \"jumps\", \"easily\", \"happiness\"]\n",
    "\n",
    "# Porter Stemmer\n",
    "porter = PorterStemmer()\n",
    "print(\"Porter Stemmer Results:\", [porter.stem(word) for word in words])\n",
    "\n",
    "# Lancaster Stemmer\n",
    "lancaster = LancasterStemmer()\n",
    "print(\"Lancaster Stemmer Results:\", [lancaster.stem(word) for word in words])\n",
    "\n",
    "# Snowball Stemmer\n",
    "snowball = SnowballStemmer(language='english')\n",
    "print(\"Snowball Stemmer Results:\", [snowball.stem(word) for word in words])\n"
   ]
  },
  {
   "cell_type": "markdown",
   "id": "97c64200",
   "metadata": {},
   "source": [
    "## Lemmatization"
   ]
  },
  {
   "cell_type": "code",
   "execution_count": 5,
   "id": "93447bd0",
   "metadata": {},
   "outputs": [
    {
     "name": "stderr",
     "output_type": "stream",
     "text": [
      "[nltk_data] Downloading package wordnet to\n",
      "[nltk_data]     C:\\Users\\debap\\AppData\\Roaming\\nltk_data...\n",
      "[nltk_data]   Package wordnet is already up-to-date!\n",
      "[nltk_data] Downloading package omw-1.4 to\n",
      "[nltk_data]     C:\\Users\\debap\\AppData\\Roaming\\nltk_data...\n",
      "[nltk_data]   Package omw-1.4 is already up-to-date!\n"
     ]
    },
    {
     "name": "stdout",
     "output_type": "stream",
     "text": [
      "Lemmatized Words: ['run', 'good', 'happy']\n"
     ]
    }
   ],
   "source": [
    "from nltk.stem import WordNetLemmatizer\n",
    "from nltk.corpus import wordnet\n",
    "\n",
    "# Download WordNet data\n",
    "nltk.download('wordnet')\n",
    "nltk.download('omw-1.4')\n",
    "\n",
    "# Sample words\n",
    "words = [(\"running\", \"v\"), (\"better\", \"a\"), (\"happier\", \"a\")]\n",
    "\n",
    "# Initialize Lemmatizer\n",
    "lemmatizer = WordNetLemmatizer()\n",
    "\n",
    "# Lemmatize words\n",
    "lemmatized_words = [lemmatizer.lemmatize(word, pos) for word, pos in words]\n",
    "print(f\"Lemmatized Words: {lemmatized_words}\")\n"
   ]
  },
  {
   "cell_type": "markdown",
   "id": "4a59dd57",
   "metadata": {},
   "source": [
    "## Stopwords and POS tagging"
   ]
  },
  {
   "cell_type": "code",
   "execution_count": 6,
   "id": "a6bd9392",
   "metadata": {},
   "outputs": [
    {
     "name": "stdout",
     "output_type": "stream",
     "text": [
      "Filtered Words: ['quick', 'brown', 'fox', 'jumps', 'lazy', 'dog', '.']\n",
      "POS Tags: [('quick', 'JJ'), ('brown', 'NN'), ('fox', 'NN'), ('jumps', 'NNS'), ('lazy', 'JJ'), ('dog', 'NN'), ('.', '.')]\n"
     ]
    },
    {
     "name": "stderr",
     "output_type": "stream",
     "text": [
      "[nltk_data] Downloading package stopwords to\n",
      "[nltk_data]     C:\\Users\\debap\\AppData\\Roaming\\nltk_data...\n",
      "[nltk_data]   Package stopwords is already up-to-date!\n",
      "[nltk_data] Downloading package averaged_perceptron_tagger to\n",
      "[nltk_data]     C:\\Users\\debap\\AppData\\Roaming\\nltk_data...\n",
      "[nltk_data]   Package averaged_perceptron_tagger is already up-to-\n",
      "[nltk_data]       date!\n"
     ]
    }
   ],
   "source": [
    "from nltk.corpus import stopwords\n",
    "from nltk.tokenize import word_tokenize\n",
    "from nltk import pos_tag\n",
    "\n",
    "# Sample text\n",
    "text = \"The quick brown fox jumps over the lazy dog.\"\n",
    "\n",
    "# Tokenize text\n",
    "words = word_tokenize(text)\n",
    "\n",
    "# Remove stopwords\n",
    "nltk.download('stopwords')\n",
    "stop_words = set(stopwords.words('english'))\n",
    "filtered_words = [word for word in words if word.lower() not in stop_words]\n",
    "print(f\"Filtered Words: {filtered_words}\")\n",
    "\n",
    "# POS Tagging\n",
    "nltk.download('averaged_perceptron_tagger')\n",
    "pos_tags = pos_tag(filtered_words)\n",
    "print(f\"POS Tags: {pos_tags}\")"
   ]
  },
  {
   "cell_type": "markdown",
   "id": "c01d148e",
   "metadata": {},
   "source": [
    "## Named Entity Recognition (NER) tagging"
   ]
  },
  {
   "cell_type": "code",
   "execution_count": 10,
   "id": "67cabdad",
   "metadata": {},
   "outputs": [
    {
     "name": "stderr",
     "output_type": "stream",
     "text": [
      "[nltk_data] Downloading package maxent_ne_chunker to\n",
      "[nltk_data]     C:\\Users\\debap\\AppData\\Roaming\\nltk_data...\n",
      "[nltk_data]   Package maxent_ne_chunker is already up-to-date!\n",
      "[nltk_data] Downloading package words to\n",
      "[nltk_data]     C:\\Users\\debap\\AppData\\Roaming\\nltk_data...\n",
      "[nltk_data]   Package words is already up-to-date!\n"
     ]
    },
    {
     "name": "stdout",
     "output_type": "stream",
     "text": [
      "(S\n",
      "  (PERSON Barack/NNP)\n",
      "  (PERSON Obama/NNP)\n",
      "  was/VBD\n",
      "  born/VBN\n",
      "  on/IN\n",
      "  August/NNP\n",
      "  4/CD\n",
      "  ,/,\n",
      "  1961/CD\n",
      "  ,/,\n",
      "  in/IN\n",
      "  (GPE Honolulu/NNP)\n",
      "  ,/,\n",
      "  (GPE Hawaii/NNP)\n",
      "  ./.)\n"
     ]
    }
   ],
   "source": [
    "import nltk\n",
    "from nltk import word_tokenize, pos_tag, ne_chunk\n",
    "\n",
    "# Sample text\n",
    "text = \"Barack Obama was born on August 4, 1961, in Honolulu, Hawaii.\"\n",
    "\n",
    "# Tokenize and POS tag the text\n",
    "words = word_tokenize(text)\n",
    "pos_tags = pos_tag(words)\n",
    "\n",
    "# Perform NER tagging\n",
    "nltk.download('maxent_ne_chunker')\n",
    "nltk.download('words')\n",
    "ner_tree = ne_chunk(pos_tags)\n",
    "\n",
    "print(ner_tree)"
   ]
  }
 ],
 "metadata": {
  "kernelspec": {
   "display_name": "NLP",
   "language": "python",
   "name": "nlp"
  },
  "language_info": {
   "codemirror_mode": {
    "name": "ipython",
    "version": 3
   },
   "file_extension": ".py",
   "mimetype": "text/x-python",
   "name": "python",
   "nbconvert_exporter": "python",
   "pygments_lexer": "ipython3",
   "version": "3.9.13"
  }
 },
 "nbformat": 4,
 "nbformat_minor": 5
}
